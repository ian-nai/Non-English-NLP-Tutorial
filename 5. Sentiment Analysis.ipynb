{
 "cells": [
  {
   "cell_type": "code",
   "execution_count": null,
   "metadata": {},
   "outputs": [],
   "source": [
    "# Now that our text is processed and tagged, we can perform some more advanced analyses.\n",
    "\n",
    "# By performing sentiment analysis we can detect and classify emotions within a text. \n",
    "# The example below incorporates functions for using NLTK and TextBlob for sentiment analysis.\n",
    "# This code is intended as a basic introduction to sentiment analysis using Python, \n",
    "# and may be used as a launching point for more in-depth sentiment analysis work. \n",
    "# For example, we would want a much larger training corpus than the one given when using NLTK's built-in \n",
    "# Naive-Bayes classifier."
   ]
  },
  {
   "cell_type": "code",
   "execution_count": null,
   "metadata": {},
   "outputs": [],
   "source": [
    "# Using Vader (via NLTK)"
   ]
  },
  {
   "cell_type": "code",
   "execution_count": null,
   "metadata": {},
   "outputs": [],
   "source": [
    "import nltk\n",
    "from nltk.sentiment.vader import SentimentIntensityAnalyzer\n",
    "from nltk.tokenize import word_tokenize\n",
    "\n",
    "file = \"beauverie.txt\"\n",
    "\n",
    "analyzer = SentimentIntensityAnalyzer()\n",
    "with open(file, 'r') as in_file:\n",
    "    text = in_file.read()\n",
    "    sents = nltk.sent_tokenize(text)\n",
    "    for s in sents:\n",
    "        snt = analyzer.polarity_scores(s)\n",
    "        print(\"{:-<40} {}\".format(s, str(snt)))"
   ]
  },
  {
   "cell_type": "code",
   "execution_count": null,
   "metadata": {},
   "outputs": [],
   "source": [
    "# Naive-Bayes Classifier"
   ]
  },
  {
   "cell_type": "code",
   "execution_count": null,
   "metadata": {},
   "outputs": [],
   "source": [
    "# Load our training data from our text file. For this exercise we'll use Daumal's novel Mount Analogue.\n",
    "import ast\n",
    "from pprint import pprint\n",
    "\n",
    "\n",
    "filename = 'mont_analogue.txt'\n",
    "\n",
    "train = []\n",
    "with open(filename) as training_file:\n",
    "    for line in training_file:\n",
    "        values = ast.literal_eval(line)\n",
    "        train.append(values)\n",
    "\n",
    "print(train)\n",
    "\n",
    "# Training our model using our loaded text file\n",
    "dictionary = set(word.lower() for passage in train for word in word_tokenize(passage[0]))\n",
    "\n",
    "t = [({word: (word in word_tokenize(x[0])) for word in dictionary}, x[1]) for x in train]\n",
    "\n",
    "classifier = nltk.NaiveBayesClassifier.train(t)\n",
    "\n",
    "file = \"beauverie.txt\"\n",
    "\n",
    "with open(file, 'r') as in_file:\n",
    "    text = in_file.read()\n",
    "    sents = nltk.sent_tokenize(text)\n",
    "    for s in sents:\n",
    "        test_data = s\n",
    "        test_data_features = {word.lower(): (word in word_tokenize(test_data.lower())) for word in dictionary}\n",
    "\n",
    "print (s, (classifier.classify(test_data_features)))"
   ]
  },
  {
   "cell_type": "code",
   "execution_count": null,
   "metadata": {},
   "outputs": [],
   "source": [
    "# TextBlob"
   ]
  },
  {
   "cell_type": "code",
   "execution_count": null,
   "metadata": {},
   "outputs": [],
   "source": [
    "from textblob import TextBlob\n",
    "import io\n",
    "\n",
    "file = \"beauverie.txt\"\n",
    "\n",
    "with io.open(file, 'r', encoding='utf-8') as in_file:\n",
    "    text = in_file.read()\n",
    "    sents = nltk.sent_tokenize(text)\n",
    "    for s in sents:\n",
    "        q = TextBlob(s)\n",
    "        print (s, q.sentiment)"
   ]
  }
 ],
 "metadata": {
  "kernelspec": {
   "display_name": "Python 3",
   "language": "python",
   "name": "python3"
  },
  "language_info": {
   "codemirror_mode": {
    "name": "ipython",
    "version": 3
   },
   "file_extension": ".py",
   "mimetype": "text/x-python",
   "name": "python",
   "nbconvert_exporter": "python",
   "pygments_lexer": "ipython3",
   "version": "3.7.6"
  }
 },
 "nbformat": 4,
 "nbformat_minor": 4
}
