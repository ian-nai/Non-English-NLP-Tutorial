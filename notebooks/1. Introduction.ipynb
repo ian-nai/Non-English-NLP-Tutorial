{
 "cells": [
  {
   "cell_type": "markdown",
   "metadata": {},
   "source": [
    "##### Hello! Welcome to the Jupyter notebook for the UT Libraries' workshop on performing text analysis on non-English texts. This tutorial uses the original French text of Rene Daumal's novel La Grand Beuverie as its example text."
   ]
  },
  {
   "cell_type": "markdown",
   "metadata": {},
   "source": [
    "##### First, let's install the required libraries to make the lesson's code examples run. Run the code below to install the libraries referenced in our requirements.txt file."
   ]
  },
  {
   "cell_type": "code",
   "execution_count": null,
   "metadata": {},
   "outputs": [],
   "source": [
    "pip3 install -r requirements.txt"
   ]
  },
  {
   "cell_type": "markdown",
   "metadata": {},
   "source": [
    "##### We should now have everything we need to begin prepping and analyzing our text. The modules in the tutorial are designed to be followed in order, but can be worked through independently, as well.\n",
    "1. [Introduction (you are here)](https://github.com/ian-nai/Non-English-NLP-Tutorial/blob/master/notebooks/1.%20Introduction.ipynb)\n",
    "2. [Prepping Your Text](https://github.com/ian-nai/Non-English-NLP-Tutorial/blob/master/notebooks/2.%20Prepping%20Your%20Text.ipynb)\n",
    "3. [More on Tokenization](https://github.com/ian-nai/Non-English-NLP-Tutorial/blob/master/notebooks/3.%20More%20on%20Tokenization.ipynb)\n",
    "4. [Named Entity Recognition and Lemmatization](https://github.com/ian-nai/Non-English-NLP-Tutorial/blob/master/notebooks/4.%20Named%20Entity%20Recognition%20and%20Lemmatization.ipynb)\n",
    "5. [Sentiment Analysis](https://github.com/ian-nai/Non-English-NLP-Tutorial/blob/master/notebooks/5.%20Sentiment%20Analysis.ipynb)\n",
    "6. [Visualizations and Topic Modeling](https://github.com/ian-nai/Non-English-NLP-Tutorial/blob/master/notebooks/6.%20Visualizations%20and%20Topic%20Modeling.ipynb)\n",
    "7. [Conclusion](https://github.com/ian-nai/Non-English-NLP-Tutorial/blob/master/notebooks/7.%20Conclusion.ipynb)"
   ]
  },
  {
   "cell_type": "markdown",
   "metadata": {},
   "source": [
    "##### For additional resources and help, please consult the documentation, further reading, and corpora files linked below."
   ]
  },
  {
   "cell_type": "code",
   "execution_count": null,
   "metadata": {},
   "outputs": [],
   "source": []
  }
 ],
 "metadata": {
  "kernelspec": {
   "display_name": "Python 3",
   "language": "python",
   "name": "python3"
  },
  "language_info": {
   "codemirror_mode": {
    "name": "ipython",
    "version": 3
   },
   "file_extension": ".py",
   "mimetype": "text/x-python",
   "name": "python",
   "nbconvert_exporter": "python",
   "pygments_lexer": "ipython3",
   "version": "3.7.6"
  }
 },
 "nbformat": 4,
 "nbformat_minor": 4
}
