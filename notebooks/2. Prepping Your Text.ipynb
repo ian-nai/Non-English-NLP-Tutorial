{
 "cells": [
  {
   "cell_type": "markdown",
   "metadata": {},
   "source": [
    "##### Now, let's process the text to get it ready for analysis. We'll tokenize the text into individual words and remove stopwords using [NLTK](https://github.com/ian-nai/Non-English-NLP-Tutorial/blob/master/Documentation%20Resources.md#nltk), then save a new file with the cleaned text."
   ]
  },
  {
   "cell_type": "code",
   "execution_count": 2,
   "metadata": {},
   "outputs": [],
   "source": [
    "import codecs\n",
    "import nltk\n",
    "from nltk.corpus import stopwords\n",
    "\n",
    "# We'll use NLTK's default French stopwords\n",
    "default_stopwords = set(nltk.corpus.stopwords.words('french'))\n",
    "\n",
    "# Our input file\n",
    "input_file = 'beauverie.txt' \n",
    "\n",
    "# Opening the input file \n",
    "fp = open(input_file, 'r')\n",
    "\n",
    "# Tokenize the text into words\n",
    "words = nltk.word_tokenize(fp.read())\n",
    "\n",
    "# Remove single-character tokens (mostly punctuation)\n",
    "words = [word for word in words if len(word) > 1]\n",
    "\n",
    "# Remove numbers\n",
    "words = [word for word in words if not word.isnumeric()]\n",
    "\n",
    "# Lowercase all words (default_stopwords are lowercase too)\n",
    "words = [word.lower() for word in words]\n",
    "\n",
    "# Remove stopwords\n",
    "words = [word for word in words if word not in default_stopwords]\n",
    "\n",
    "# Save our new file as 'cleaned_text.txt'\n",
    "with open('cleaned_text.txt', 'w') as f:\n",
    "    for item in words:\n",
    "        f.write(\"%s\\n\" % item)"
   ]
  },
  {
   "cell_type": "markdown",
   "metadata": {},
   "source": [
    "##### We can remove words from a custom stopwords list using regular expressions, as well."
   ]
  },
  {
   "cell_type": "code",
   "execution_count": 3,
   "metadata": {},
   "outputs": [
    {
     "name": "stdout",
     "output_type": "stream",
     "text": [
      " is a test, you \n"
     ]
    }
   ],
   "source": [
    "stop_words_lst = ['hello', 'world']\n",
    "s = 'hello world, this is a test'\n",
    "\n",
    "import re\n",
    "for w in stop_words_lst:\n",
    "    pattern = r'\\b'+w+r'\\b'\n",
    "    s = re.sub(pattern, '', s)\n",
    "\n",
    "print (s)"
   ]
  },
  {
   "cell_type": "markdown",
   "metadata": {},
   "source": [
    "##### Alternatively, we can use [spaCy](https://github.com/ian-nai/Non-English-NLP-Tutorial/blob/master/Documentation%20Resources.md#spacy) to remove stopwords."
   ]
  },
  {
   "cell_type": "code",
   "execution_count": null,
   "metadata": {},
   "outputs": [],
   "source": [
    "import spacy\n",
    "from spacy.lang.fr import French\n",
    "from spacy.lang.fr.stop_words import STOP_WORDS\n",
    "\n",
    "# Load the French tokenizer\n",
    "nlp = French()\n",
    "\n",
    "# Set the variable \"text\" as our chosen file and remove any new lines ('\\n')\n",
    "with open('beauverie.txt', 'r') as file:\n",
    "    text = file.read().replace('\\n', '')\n",
    "    \n",
    "# Convert the text to a Spacy document\n",
    "my_doc = nlp(text)\n",
    "\n",
    "# Create list of word tokens\n",
    "token_list = []\n",
    "\n",
    "# Tokenize our text and append the tokens to a new list, \"token_list\"\n",
    "for token in my_doc:\n",
    "   if token.is_punct == False:\n",
    "       token_list.append(token.text.lower())  # make the words lowercase\n",
    "\n",
    "# Create list of word tokens after removing stopwords\n",
    "filtered_text =[]\n",
    "\n",
    "# Iterate through the list and remove any stopwords\n",
    "for word in token_list:\n",
    "   lexeme = nlp.vocab[word]\n",
    "   if lexeme.is_stop == False:\n",
    "       filtered_text.append(word)\n",
    "\n",
    "print(filtered_text)  \n",
    "\n",
    "# Save the file as 'cleaned_text.txt'\n",
    "with open('cleaned_text_spacy.txt', 'w') as f:\n",
    "    for item in filtered_text:\n",
    "        f.write(\"%s\\n\" % item)"
   ]
  }
 ],
 "metadata": {
  "kernelspec": {
   "display_name": "Python 3",
   "language": "python",
   "name": "python3"
  },
  "language_info": {
   "codemirror_mode": {
    "name": "ipython",
    "version": 3
   },
   "file_extension": ".py",
   "mimetype": "text/x-python",
   "name": "python",
   "nbconvert_exporter": "python",
   "pygments_lexer": "ipython3",
   "version": "3.7.6"
  }
 },
 "nbformat": 4,
 "nbformat_minor": 4
}
