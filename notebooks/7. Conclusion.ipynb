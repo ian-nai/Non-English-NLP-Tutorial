{
 "cells": [
  {
   "cell_type": "markdown",
   "metadata": {},
   "source": [
    "Now that we've finished working with our text, you should have a solid start in some of the basic methods and\n",
    "theories behind analyzing and working with text programmatically.\n",
    "For further reading on the topics we covered, please consult the links below. Each link leads to a page in our GitHub repository with more information and resources on its respective topic."
   ]
  },
  {
   "cell_type": "markdown",
   "metadata": {},
   "source": [
    "[Documentation and Resources](https://github.com/ian-nai/Non-English-NLP-Tutorial/blob/master/Documentation%20Resources.md)\n",
    "\n",
    "[Further Reading](https://github.com/ian-nai/Non-English-NLP-Tutorial/blob/master/further_reading.md)\n",
    "\n",
    "[Corpora](https://github.com/ian-nai/Non-English-NLP-Tutorial/blob/master/corpora_resources.md)"
   ]
  },
  {
   "cell_type": "markdown",
   "metadata": {},
   "source": [
    "This page will be updated in the future as more resources related to the tutorial, such as slides from our workshop, are made available."
   ]
  }
 ],
 "metadata": {
  "kernelspec": {
   "display_name": "Python 3",
   "language": "python",
   "name": "python3"
  },
  "language_info": {
   "codemirror_mode": {
    "name": "ipython",
    "version": 3
   },
   "file_extension": ".py",
   "mimetype": "text/x-python",
   "name": "python",
   "nbconvert_exporter": "python",
   "pygments_lexer": "ipython3",
   "version": "3.7.6"
  }
 },
 "nbformat": 4,
 "nbformat_minor": 4
}
