{
 "cells": [
  {
   "cell_type": "markdown",
   "metadata": {},
   "source": [
    "##### Now that our text is processed and tagged, we can perform some more advanced analyses. By performing sentiment analysis we can detect and classify emotions within a text. The example below incorporates functions for using [NLTK](https://github.com/ian-nai/Non-English-NLP-Tutorial/blob/master/Documentation%20Resources.md#nltk) and [TextBlob](https://github.com/ian-nai/Non-English-NLP-Tutorial/blob/master/Documentation%20Resources.md#blob) for sentiment analysis.\n",
    "\n",
    "##### This code is intended as a basic introduction to sentiment analysis using Python, and may be used as a launching point for more in-depth sentiment analysis work. For example, we would want a much larger training corpus than the one given when using NLTK's built-in Naive-Bayes classifier."
   ]
  },
  {
   "cell_type": "markdown",
   "metadata": {},
   "source": [
    "##### Using [Vader (via NLTK)](https://github.com/ian-nai/Non-English-NLP-Tutorial/blob/master/Documentation%20Resources.md#vader)"
   ]
  },
  {
   "cell_type": "code",
   "execution_count": null,
   "metadata": {},
   "outputs": [],
   "source": [
    "import nltk\n",
    "from nltk.sentiment.vader import SentimentIntensityAnalyzer\n",
    "from nltk.tokenize import word_tokenize\n",
    "\n",
    "file = \"beauverie.txt\"\n",
    "\n",
    "analyzer = SentimentIntensityAnalyzer()\n",
    "with open(file, 'r') as in_file:\n",
    "    text = in_file.read()\n",
    "    sents = nltk.sent_tokenize(text)\n",
    "    for s in sents:\n",
    "        snt = analyzer.polarity_scores(s)\n",
    "        print(\"{:-<40} {}\".format(s, str(snt)))\n",
    "        \n",
    "        with open(\"vader.txt\", \"a\") as vader_txt:\n",
    "            vader_txt.write(\"{:-<40} {}\".format(s, str(snt)) + \"\\n\")"
   ]
  },
  {
   "cell_type": "markdown",
   "metadata": {},
   "source": [
    "##### [Naive Bayes Classifier](https://github.com/ian-nai/Non-English-NLP-Tutorial/master/Documentation%20Resources.md#naive)"
   ]
  },
  {
   "cell_type": "code",
   "execution_count": null,
   "metadata": {},
   "outputs": [],
   "source": [
    "import nltk\n",
    "from nltk.tokenize import word_tokenize\n",
    "import ast\n",
    "\n",
    "# Load our training data from our text file\n",
    "filename = 'training_data.txt'\n",
    "   \n",
    "train = []\n",
    "with open(filename) as training_file:\n",
    "    for line in training_file:\n",
    "        values = ast.literal_eval(line)\n",
    "        train.append(values)\n",
    "\n",
    "print(train)\n",
    "\n",
    "    \n",
    "# Training our model using our loaded text file\n",
    "dictionary = set(word.lower() for passage in train for word in word_tokenize(passage[0]))\n",
    "  \n",
    "t = [({word: (word in word_tokenize(x[0])) for word in dictionary}, x[1]) for x in train]\n",
    "   \n",
    "classifier = nltk.NaiveBayesClassifier.train(t)\n",
    "   \n",
    "file = \"beauverie.txt\"\n",
    "   \n",
    "with open(file, 'r') as in_file:\n",
    "    text = in_file.read()\n",
    "    sents = nltk.sent_tokenize(text)\n",
    "    for s in sents:\n",
    "        test_data = s\n",
    "        test_data_features = {word.lower(): (word in word_tokenize(test_data.lower())) for word in dictionary}\n",
    "    \n",
    "        print (s, (classifier.classify(test_data_features)))\n",
    "        with open(\"naive_bayes.txt\", \"a\") as naive_txt:\n",
    "            naive_txt.write(s + (classifier.classify(test_data_features)) + \"\\n\")"
   ]
  },
  {
   "cell_type": "markdown",
   "metadata": {},
   "source": [
    "##### [TextBlob](https://github.com/ian-nai/Non-English-NLP-Tutorial/master/Documentation%20Resources.md#blob)"
   ]
  },
  {
   "cell_type": "code",
   "execution_count": null,
   "metadata": {},
   "outputs": [],
   "source": [
    "from textblob import TextBlob\n",
    "import io\n",
    "\n",
    "file = \"beauverie.txt\"\n",
    "\n",
    "with io.open(file, 'r', encoding='utf-8') as in_file:\n",
    "    text = in_file.read()\n",
    "    sents = nltk.sent_tokenize(text)\n",
    "    for s in sents:\n",
    "        q = TextBlob(s)\n",
    "        print (s, q.sentiment)\n",
    "        \n",
    "        with open(\"textblob.txt\", \"a\") as txtblob_txt:\n",
    "            txtblob_txt.write(s + q.sentiment + \"\\n\")"
   ]
  }
 ],
 "metadata": {
  "kernelspec": {
   "display_name": "Python 3",
   "language": "python",
   "name": "python3"
  },
  "language_info": {
   "codemirror_mode": {
    "name": "ipython",
    "version": 3
   },
   "file_extension": ".py",
   "mimetype": "text/x-python",
   "name": "python",
   "nbconvert_exporter": "python",
   "pygments_lexer": "ipython3",
   "version": "3.7.6"
  }
 },
 "nbformat": 4,
 "nbformat_minor": 4
}
