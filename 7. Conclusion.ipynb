{
 "cells": [
  {
   "cell_type": "raw",
   "metadata": {},
   "source": [
    "Now that we've finished working with our text, you should have a solid start in some of the basic methods and\n",
    "theories behind analyzing and working with text programmatically.\n",
    "For further reading on the topics we covered, please consult the links below:"
   ]
  },
  {
   "cell_type": "raw",
   "metadata": {},
   "source": [
    "For working in other non-English languages:"
   ]
  },
  {
   "cell_type": "raw",
   "metadata": {},
   "source": [
    "Spacy offers built-in support for a variety of languages. For more information, consult this link:\n",
    "https://spacy.io/usage/models"
   ]
  },
  {
   "cell_type": "raw",
   "metadata": {},
   "source": [
    "This Medium post breaks down a number of problems you might run into while processing non-English texts:\n",
    "https://medium.com/krakensystems-blog/text-processing-problems-with-non-english-languages-82822d0945dd"
   ]
  },
  {
   "cell_type": "raw",
   "metadata": {},
   "source": [
    "NLTK relies on machine learning for many of its processes, so it can be very useful for working with non-English texts. You'll just have to provide corpora in your target languages to ensure your models are properly trained. More information on training NLTK models for text classification can be found here: https://www.nltk.org/book/ch06.html "
   ]
  },
  {
   "cell_type": "raw",
   "metadata": {},
   "source": [
    "General Documentation:"
   ]
  },
  {
   "cell_type": "raw",
   "metadata": {},
   "source": [
    "* NLTK: https://www.nltk.org/\n",
    "\n",
    "* Spacy: https://spacy.io/usage\n",
    "\n",
    "* TextBlob: https://textblob.readthedocs.io/en/dev/"
   ]
  },
  {
   "cell_type": "raw",
   "metadata": {},
   "source": [
    "Other Articles:"
   ]
  },
  {
   "cell_type": "raw",
   "metadata": {},
   "source": [
    "* https://towardsdatascience.com/to-translate-or-not-to-translate-best-practices-in-non-english-sentiment-analysis-144a53613913"
   ]
  }
 ],
 "metadata": {
  "kernelspec": {
   "display_name": "Python 3",
   "language": "python",
   "name": "python3"
  },
  "language_info": {
   "codemirror_mode": {
    "name": "ipython",
    "version": 3
   },
   "file_extension": ".py",
   "mimetype": "text/x-python",
   "name": "python",
   "nbconvert_exporter": "python",
   "pygments_lexer": "ipython3",
   "version": "3.7.6"
  }
 },
 "nbformat": 4,
 "nbformat_minor": 4
}
