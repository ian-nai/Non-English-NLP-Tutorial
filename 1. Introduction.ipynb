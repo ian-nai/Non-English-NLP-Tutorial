{
 "cells": [
  {
   "cell_type": "code",
   "execution_count": null,
   "metadata": {},
   "outputs": [],
   "source": [
    "# Hello! Welcome to the Jupyter notebook for the UT Libraries' workshop on performing text analysis on non-English \n",
    "# texts. This tutorial uses the original French text of Rene Daumal's novel La Grand Beuverie as its example text."
   ]
  },
  {
   "cell_type": "code",
   "execution_count": null,
   "metadata": {},
   "outputs": [],
   "source": [
    "# First, let's install the required libraries to make the lesson's code examples run.\n",
    "# Run the code below to install the libraries referenced in our requirements.txt file."
   ]
  },
  {
   "cell_type": "code",
   "execution_count": null,
   "metadata": {},
   "outputs": [],
   "source": [
    "pip3 install requirements.txt"
   ]
  },
  {
   "cell_type": "code",
   "execution_count": 1,
   "metadata": {},
   "outputs": [],
   "source": [
    "# We should now have everything we need to begin prepping and analyzing our text.\n",
    "# Follow the modules in this tutorial in this order to ensure that everything works as expected.\n",
    "# 1. Introduction (you are here)\n",
    "# 2. Prepping Your Text\n",
    "# 3. Tokenization\n",
    "# 4. Named Entity Recognition and Lemmatization\n",
    "# 5. Sentiment Analysis\n",
    "# 6. Topic Modeling\n",
    "# 7. Conclusion"
   ]
  }
 ],
 "metadata": {
  "kernelspec": {
   "display_name": "Python 3",
   "language": "python",
   "name": "python3"
  },
  "language_info": {
   "codemirror_mode": {
    "name": "ipython",
    "version": 3
   },
   "file_extension": ".py",
   "mimetype": "text/x-python",
   "name": "python",
   "nbconvert_exporter": "python",
   "pygments_lexer": "ipython3",
   "version": "3.7.6"
  }
 },
 "nbformat": 4,
 "nbformat_minor": 4
}
