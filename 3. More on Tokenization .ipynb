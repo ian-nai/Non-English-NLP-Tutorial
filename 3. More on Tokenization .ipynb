{
 "cells": [
  {
   "cell_type": "code",
   "execution_count": null,
   "metadata": {},
   "outputs": [],
   "source": [
    "# Next, we'll look at other ways to tokenize the text, print the tokens, and save the tokenized text in a new file.\n",
    "\n",
    "# We already tokenized the text in Module 2 before removing stopwords, so this is just a review of other code\n",
    "# that can tokenize a text without removing stopwords.\n",
    "\n",
    "# First, we'll use NLTK. To save the text in a new file (with tokens on separate lines), just uncomment\n",
    "# the lines at the end of the code examples below.\n",
    "# For the purposes of this tutorial, we are tokenizing the text into words. "
   ]
  },
  {
   "cell_type": "code",
   "execution_count": null,
   "metadata": {},
   "outputs": [],
   "source": [
    "import nltk\n",
    "from nltk import RegexpTokenizer\n",
    "\n",
    "# Import our text file and eliminate any new lines('\\n')\n",
    "with open('beauverie.txt', 'r') as file:\n",
    "    data = file.read().replace('\\n', '')\n",
    "\n",
    "# Set our tokenizer and tokenize the text\n",
    "tokenizer = RegexpTokenizer(r'''\\w'|\\w+|[^\\w\\s]''')\n",
    "print(tokenizer.tokenize(data))\n",
    "\n",
    "# Save the new file\n",
    "with open('tokenized.txt', 'w') as f:\n",
    "    for item in tokenizer.tokenize(data):\n",
    "        f.write(\"%s\\n\" % item)"
   ]
  },
  {
   "cell_type": "code",
   "execution_count": null,
   "metadata": {},
   "outputs": [],
   "source": [
    "# We can tokenize in Spacy, as well. We already did this in our previous text prepping module (at the same time\n",
    "# that we removed stopwords), but here is the code again without the stopword removal and lowercasing of text."
   ]
  },
  {
   "cell_type": "code",
   "execution_count": null,
   "metadata": {},
   "outputs": [],
   "source": [
    "from spacy.lang.fr import French\n",
    "\n",
    "# Load the French tokenizer\n",
    "nlp = French()\n",
    "\n",
    "# Import our text file and eliminate any new lines('\\n')\n",
    "with open('beauverie.txt', 'r') as file:\n",
    "    text = file.read()\n",
    "    \n",
    "# Convert the text to a Spacy document\n",
    "my_doc = nlp(text)\n",
    "\n",
    "# Create list of word tokens\n",
    "token_list = []\n",
    "\n",
    "# Tokenize our text and append the tokens to a new list, \"token_list\"\n",
    "for token in my_doc:\n",
    "   token_list.append(token.text)\n",
    "\n",
    "print(token_list)\n",
    "\n",
    "# Save our new file\n",
    "with open('tokenized_spacy.txt', 'w') as f:\n",
    "    for item in token_list:\n",
    "        f.write(\"%s\\n\" % item)"
   ]
  }
 ],
 "metadata": {
  "kernelspec": {
   "display_name": "Python 3",
   "language": "python",
   "name": "python3"
  },
  "language_info": {
   "codemirror_mode": {
    "name": "ipython",
    "version": 3
   },
   "file_extension": ".py",
   "mimetype": "text/x-python",
   "name": "python",
   "nbconvert_exporter": "python",
   "pygments_lexer": "ipython3",
   "version": "3.7.6"
  }
 },
 "nbformat": 4,
 "nbformat_minor": 4
}
