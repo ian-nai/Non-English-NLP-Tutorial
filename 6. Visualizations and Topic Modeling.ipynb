{
 "cells": [
  {
   "cell_type": "code",
   "execution_count": null,
   "metadata": {},
   "outputs": [],
   "source": [
    "# Topic modeling uses statistical models to discover the topics present in a text or group of texts.\n",
    "# We're going to use the LDA (Latent Dirichlet Allocation) approach for topic modeling in this module.\n",
    "# But first, we're going to explore some visualization techniques we can apply to our text."
   ]
  },
  {
   "cell_type": "code",
   "execution_count": null,
   "metadata": {},
   "outputs": [],
   "source": [
    "# First, we'll load our CSV, look at the data and see what information we can glean from it,\n",
    "# then create a bar graph of the parts of speech in the CSV we created earlier."
   ]
  },
  {
   "cell_type": "code",
   "execution_count": null,
   "metadata": {},
   "outputs": [],
   "source": [
    "import pandas\n",
    "from PIL import Image\n",
    "from wordcloud import WordCloud, ImageColorGenerator\n",
    "import matplotlib.pyplot as plt\n",
    "\n",
    "# Open our CSV and read the data\n",
    "document = pandas.read_csv('text_data.csv')\n",
    "\n",
    "# Print the first 5 lines of our document to check that it loaded properly\n",
    "print(document.head())\n",
    "\n",
    "# Detect our Parts of Speech ('pos') column in the CSV\n",
    "pos_group = document.groupby('pos')\n",
    "\n",
    "# Print a summary statistic of all parts of speech grouped together\n",
    "print(pos_group.describe(include='all'))"
   ]
  },
  {
   "cell_type": "code",
   "execution_count": null,
   "metadata": {},
   "outputs": [],
   "source": [
    "# Now that we've learned how to manipulate the data a bit, we'll create a wordcloud with our data"
   ]
  },
  {
   "cell_type": "code",
   "execution_count": null,
   "metadata": {},
   "outputs": [],
   "source": [
    "# Join the different words in our CSV into one long string\n",
    "long_string = ','.join(list(document.text.values))\n",
    "\n",
    "# Set up our wordcloud parameters\n",
    "wordcloud = WordCloud(width = 800, height = 800, \n",
    "                background_color ='white', \n",
    "                min_font_size = 10).generate(long_string) \n",
    "  \n",
    "# create the wordcloud as an image                   \n",
    "plt.figure(figsize = (8, 8), facecolor = None) \n",
    "plt.imshow(wordcloud) \n",
    "plt.axis(\"off\") \n",
    "plt.tight_layout(pad = 0) \n",
    "  \n",
    "plt.show() "
   ]
  },
  {
   "cell_type": "code",
   "execution_count": null,
   "metadata": {},
   "outputs": [],
   "source": [
    "# Finally, we'll graph the 10 most common words in the text"
   ]
  },
  {
   "cell_type": "code",
   "execution_count": null,
   "metadata": {},
   "outputs": [],
   "source": [
    "from collections import Counter\n",
    "import numpy as np\n",
    "\n",
    "# Set the text of our document as the word list\n",
    "word_list = list(document.text.values)\n",
    "\n",
    "# Get the 10 most common words from the list\n",
    "counts = dict(Counter(word_list).most_common(10))\n",
    "\n",
    "# Set up our labels\n",
    "labels, values = zip(*counts.items())\n",
    "\n",
    "# Sort our values in descending order\n",
    "indSort = np.argsort(values)[::-1]\n",
    "\n",
    "# Rearrange our data\n",
    "labels = np.array(labels)[indSort]\n",
    "values = np.array(values)[indSort]\n",
    "\n",
    "indexes = np.arange(len(labels))\n",
    "\n",
    "bar_width = 0.35\n",
    "\n",
    "plt.bar(indexes, values)\n",
    "\n",
    "# Add our labels\n",
    "plt.xticks(indexes + bar_width, labels)\n",
    "plt.show()"
   ]
  },
  {
   "cell_type": "code",
   "execution_count": null,
   "metadata": {},
   "outputs": [],
   "source": [
    "# Now we'll use LDA model in SciKit Learn to conduct our topic modeling\n",
    "# You can read more about topic modeling in Python at this link: \n",
    "# https://medium.com/mlreview/topic-modeling-with-scikit-learn-e80d33668730\n",
    "# The article above also provides code on how to use SciKit Learn to perform\n",
    "# NMF topic modeling on a text, which might be used and compared to our LDA results."
   ]
  },
  {
   "cell_type": "code",
   "execution_count": null,
   "metadata": {},
   "outputs": [],
   "source": [
    "import gensim\n",
    "from gensim import corpora\n",
    "from gensim.models import LdaModel, LdaMulticore\n",
    "import logging\n",
    "logging.basicConfig(format='%(asctime)s : %(levelname)s : %(message)s')\n",
    "logging.root.setLevel(level=logging.INFO)\n",
    "\n",
    "# How to create a dictionary from a list of sentences?\n",
    "\n",
    "our_files = ['cleaned_text.txt']\n",
    "\n",
    "with open('cleaned_text.txt') as f:\n",
    "    content = f.readlines()\n",
    "    content = [x.strip() for x in content] \n",
    "\n",
    "words = [[word for word in line.split()] for line in content]\n",
    "\n",
    "# Create dictionary\n",
    "dictionary = corpora.Dictionary(words)\n",
    "corpus = [dictionary.doc2bow(line) for line in words]\n",
    "\n",
    "# Get information about the dictionary\n",
    "print(dictionary)\n",
    "\n",
    "'''\n",
    "# Save the Dict and Corpus\n",
    "dictionary.save('my_dict.dict')  # save dict to disk\n",
    "corpora.MmCorpus.serialize('my_corpus.mm', corpus)  # save corpus to disk\n",
    "\n",
    "# Load them back\n",
    "loaded_dict = corpora.Dictionary.load('my_dict.dict')\n",
    "\n",
    "corpus = corpora.MmCorpus('my_corpus.mm')\n",
    "'''\n",
    "\n",
    "# Step 0: Import packages and stopwords\n",
    "\n",
    "\n",
    "# Step 4: Train the LDA model\n",
    "lda_model = LdaMulticore(corpus=corpus,\n",
    "                         id2word=dictionary,\n",
    "                         random_state=100,\n",
    "                         num_topics=5,\n",
    "                         passes=10,\n",
    "                         chunksize=1000,\n",
    "                         batch=False,\n",
    "                         alpha='asymmetric',\n",
    "                         decay=0.5,\n",
    "                         offset=64,\n",
    "                         eta=None,\n",
    "                         eval_every=0,\n",
    "                         iterations=100,\n",
    "                         gamma_threshold=0.001,\n",
    "                         per_word_topics=True)\n",
    "\n",
    "# save the model\n",
    "lda_model.save('lda_model.model')\n",
    "\n",
    "# See the topics\n",
    "lda_model.print_topics(-1)\n",
    "\n",
    "with open(\"lda_output.txt\", \"a\") as lda_txt:\n",
    "            topics=lda_model.top_topics(corpus)\n",
    "            lda_txt.write('\\n'.join('%s %s' %topic for topic in topics))"
   ]
  }
 ],
 "metadata": {
  "kernelspec": {
   "display_name": "Python 3",
   "language": "python",
   "name": "python3"
  },
  "language_info": {
   "codemirror_mode": {
    "name": "ipython",
    "version": 3
   },
   "file_extension": ".py",
   "mimetype": "text/x-python",
   "name": "python",
   "nbconvert_exporter": "python",
   "pygments_lexer": "ipython3",
   "version": "3.7.6"
  }
 },
 "nbformat": 4,
 "nbformat_minor": 4
}
