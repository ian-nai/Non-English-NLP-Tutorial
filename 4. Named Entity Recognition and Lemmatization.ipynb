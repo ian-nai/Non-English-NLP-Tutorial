{
 "cells": [
  {
   "cell_type": "code",
   "execution_count": null,
   "metadata": {},
   "outputs": [],
   "source": [
    "# Named Entity Recognition is the process of locating and classifying named entities \n",
    "# in text into pre-defined categories (persons, places, and so on).\n",
    "# Part of speech tagging tags the parts of speech computationally identified within a text.\n",
    "# Instructions on POS tagging with Spacy are below."
   ]
  },
  {
   "cell_type": "code",
   "execution_count": null,
   "metadata": {},
   "outputs": [],
   "source": [
    "import spacy\n",
    "\n",
    "with open('tokenized.txt', 'r') as file:\n",
    "    text_data = file.read()\n",
    "    \n",
    "nlp = spacy.load(\"fr_core_news_md\")\n",
    "doc = nlp(text_data)\n",
    "\n",
    "for ent in doc.ents:\n",
    "    print(ent.text, ent.start_char, ent.end_char, ent.label_)"
   ]
  },
  {
   "cell_type": "code",
   "execution_count": null,
   "metadata": {},
   "outputs": [],
   "source": [
    "# We can perform part of speech tagging using the spacy_lefff library.\n",
    "# From the library's GitHub repository:\n",
    "# \"This package allows to bring Lefff lemmatization and part-of-speech tagging to a spaCy custom pipeline.\n",
    "# When POS tagging and Lemmatizaion are combined inside a pipeline, it improves your text preprocessing for \n",
    "# French compared to the built-in spaCy French processing.\"\""
   ]
  },
  {
   "cell_type": "code",
   "execution_count": null,
   "metadata": {},
   "outputs": [],
   "source": [
    "import spacy\n",
    "from spacy_lefff import LefffLemmatizer, POSTagger\n",
    "import csv\n",
    "\n",
    "#nlp = spacy.load('fr')\n",
    "nlp = spacy.load(\"fr_core_news_md\")\n",
    "pos = POSTagger()\n",
    "french_lemmatizer = LefffLemmatizer(after_melt=True, default=True)\n",
    "nlp.add_pipe(pos, name='pos', after='parser')\n",
    "nlp.add_pipe(french_lemmatizer, name='lefff', after='pos')\n",
    "\n",
    "# Open our file\n",
    "with open('tokenized.txt', 'r') as file:\n",
    "    text_data = file.read()\n",
    "\n",
    "    \n",
    "# Specify the information we want\n",
    "doc = nlp(text_data)\n",
    "for d in doc:\n",
    "    print(d.text, d.pos_, d._.melt_tagger, d._.lefff_lemma, d.tag_, d.lemma_)\n",
    "    \n",
    "# Output our tagged data into a CSV\n",
    "with open('text_data.csv', 'w') as csvfile:\n",
    "    fieldnames = ['text', 'pos', 'melt', 'lefff_lemma', 'tag', 'lemma']\n",
    "    writer = csv.DictWriter(csvfile, fieldnames=fieldnames)\n",
    "\n",
    "    writer.writeheader()\n",
    "    \n",
    "    for d in doc:\n",
    "        if d.pos_ != \"SPACE\":\n",
    "            writer.writerow({'text': d.text, 'pos': d.pos_, 'melt': d._.melt_tagger, 'lefff_lemma': d._.lefff_lemma, 'tag': d.tag_, 'lemma': d.lemma_})"
   ]
  }
 ],
 "metadata": {
  "kernelspec": {
   "display_name": "Python 3",
   "language": "python",
   "name": "python3"
  },
  "language_info": {
   "codemirror_mode": {
    "name": "ipython",
    "version": 3
   },
   "file_extension": ".py",
   "mimetype": "text/x-python",
   "name": "python",
   "nbconvert_exporter": "python",
   "pygments_lexer": "ipython3",
   "version": "3.7.6"
  }
 },
 "nbformat": 4,
 "nbformat_minor": 4
}
